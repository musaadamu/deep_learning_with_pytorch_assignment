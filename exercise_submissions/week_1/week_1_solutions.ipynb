{
 "cells": [
  {
   "cell_type": "markdown",
   "metadata": {},
   "source": [
    "## Arewa DataScience Academy\n",
    "### Deep Learning Cohort 1.0\n",
    "#### WEEK 1 Exercises\n",
    "#### Exercises:"
   ]
  },
  {
   "cell_type": "code",
   "execution_count": 1,
   "metadata": {},
   "outputs": [
    {
     "name": "stdout",
     "output_type": "stream",
     "text": [
      "tensor([[-0.1963,  0.7019,  0.6113, -1.0962, -0.0336,  1.4641,  0.2738],\n",
      "        [ 0.3523, -3.3408, -0.3324, -0.5706, -0.2205, -1.2945,  0.3024],\n",
      "        [ 2.1478, -0.5705, -0.0615,  0.2535, -0.1590, -0.1550, -1.0820],\n",
      "        [-0.9655, -1.3840, -0.9386,  1.4877, -0.8094,  0.2993,  0.9146],\n",
      "        [ 0.1534,  0.2414, -0.5994, -0.3021,  0.3436, -1.5698,  1.2954],\n",
      "        [-0.3688,  1.3234,  0.1971,  0.1479,  1.5832, -0.9524, -1.2891],\n",
      "        [ 0.0059, -0.9011, -0.1103, -0.4078, -0.8185,  0.2593,  0.3742]])\n"
     ]
    }
   ],
   "source": [
    "import torch\n",
    "tensor = torch.randn(7, 7)\n",
    "print(tensor)"
   ]
  },
  {
   "cell_type": "code",
   "execution_count": null,
   "metadata": {},
   "outputs": [],
   "source": []
  },
  {
   "cell_type": "code",
   "execution_count": 2,
   "metadata": {},
   "outputs": [
    {
     "name": "stdout",
     "output_type": "stream",
     "text": [
      "tensor([[ 2.4459],\n",
      "        [ 4.5195],\n",
      "        [ 1.4639],\n",
      "        [ 0.2680],\n",
      "        [-1.6168],\n",
      "        [-1.5594],\n",
      "        [ 0.3328]])\n"
     ]
    }
   ],
   "source": [
    "import torch\n",
    "# Create the first random tensor (shape: 7x7)\n",
    "tensor1 = torch.randn(7, 7)\n",
    "# Create the second random tensor and transpose it (shape: 1x7)\n",
    "tensor2 = torch.randn(1, 7).t()\n",
    "# Perform matrix multiplication\n",
    "result = torch.matmul(tensor1, tensor2)\n",
    "print(result)"
   ]
  },
  {
   "cell_type": "code",
   "execution_count": 3,
   "metadata": {},
   "outputs": [
    {
     "name": "stdout",
     "output_type": "stream",
     "text": [
      "Random Tensor 1:\n",
      "tensor([[-1.1258, -1.1524, -0.2506, -0.4339,  0.8487,  0.6920, -0.3160],\n",
      "        [-2.1152,  0.3223, -1.2633,  0.3500,  0.3081,  0.1198,  1.2377],\n",
      "        [ 1.1168, -0.2473, -1.3527, -1.6959,  0.5667,  0.7935,  0.5988],\n",
      "        [-1.5551, -0.3414,  1.8530,  0.7502, -0.5855, -0.1734,  0.1835],\n",
      "        [ 1.3894,  1.5863,  0.9463, -0.8437, -0.6136,  0.8728,  1.0554],\n",
      "        [ 0.1778, -0.2303, -0.3918,  0.5433, -0.3952,  0.2055,  0.7440],\n",
      "        [ 1.5210,  3.4105, -1.5312, -1.2341,  1.8197, -0.5515, -1.3253]])\n",
      "Random Tensor 2:\n",
      "tensor([[-2.2858],\n",
      "        [ 0.0700],\n",
      "        [ 0.6674],\n",
      "        [-1.0403],\n",
      "        [-0.4820],\n",
      "        [ 1.1293],\n",
      "        [-1.1624]])\n",
      "Result:\n",
      "tensor([[ 3.5168],\n",
      "        [ 2.1984],\n",
      "        [-1.7815],\n",
      "        [ 3.8600],\n",
      "        [-1.5010],\n",
      "        [-1.6916],\n",
      "        [-2.9352]])\n"
     ]
    }
   ],
   "source": [
    "import torch\n",
    "# Set the random seed to 0\n",
    "torch.manual_seed(0)\n",
    "# Create a random tensor with shape (7, 7)\n",
    "tensor1 = torch.randn(7, 7)\n",
    "print(\"Random Tensor 1:\")\n",
    "print(tensor1)\n",
    "# Create a random tensor with shape (1, 7) and transpose it\n",
    "tensor2 = torch.randn(1, 7).t()\n",
    "print(\"Random Tensor 2:\")\n",
    "print(tensor2)\n",
    "# Perform matrix multiplication\n",
    "result = torch.matmul(tensor1, tensor2)\n",
    "print(\"Result:\")\n",
    "print(result)"
   ]
  },
  {
   "cell_type": "code",
   "execution_count": 4,
   "metadata": {},
   "outputs": [],
   "source": [
    "import torch\n",
    "# Set the random seed for CPU operations\n",
    "torch.manual_seed(0)\n",
    "if torch.cuda.is_available():\n",
    "    # Set the random seed for GPU operations\n",
    "    torch.cuda.manual_seed(1234)"
   ]
  },
  {
   "cell_type": "code",
   "execution_count": 5,
   "metadata": {},
   "outputs": [
    {
     "name": "stdout",
     "output_type": "stream",
     "text": [
      "GPU not available.\n"
     ]
    }
   ],
   "source": [
    "import torch\n",
    "# Set the random seed for CPU operations\n",
    "torch.manual_seed(1234)\n",
    "if torch.cuda.is_available():\n",
    "    # Set the random seed for GPU operations\n",
    "    torch.cuda.manual_seed(0)\n",
    "    # Create random tensors on the GPU\n",
    "    tensor1 = torch.randn(2, 3).cuda()\n",
    "    tensor2 = torch.randn(2, 3).cuda()\n",
    "    # Print the tensors\n",
    "    print(\"Tensor 1:\")\n",
    "    print(tensor1)\n",
    "    print(\"Tensor 2:\")\n",
    "    print(tensor2)\n",
    "else:\n",
    "    print(\"GPU not available.\")"
   ]
  },
  {
   "cell_type": "code",
   "execution_count": 6,
   "metadata": {},
   "outputs": [
    {
     "name": "stdout",
     "output_type": "stream",
     "text": [
      "GPU not available.\n"
     ]
    }
   ],
   "source": [
    "import torch\n",
    "# Set the random seed for CPU operations\n",
    "torch.manual_seed(1234)\n",
    "if torch.cuda.is_available():\n",
    "    # Set the random seed for GPU operations\n",
    "    torch.cuda.manual_seed(0)\n",
    "    # Create random tensors on the GPU\n",
    "    tensor1 = torch.randn(2, 3).cuda()\n",
    "    tensor2 = torch.randn(3, 2).cuda()\n",
    "    # Perform matrix multiplication\n",
    "    result = torch.matmul(tensor1, tensor2)\n",
    "    # Print the result\n",
    "    print(\"Result:\")\n",
    "    print(result)\n",
    "else:\n",
    "    print(\"GPU not available.\")"
   ]
  },
  {
   "cell_type": "code",
   "execution_count": 7,
   "metadata": {},
   "outputs": [
    {
     "name": "stdout",
     "output_type": "stream",
     "text": [
      "GPU not available.\n"
     ]
    }
   ],
   "source": [
    "import torch\n",
    "# Set the random seed for CPU operations\n",
    "torch.manual_seed(1234)\n",
    "if torch.cuda.is_available():\n",
    "    # Set the random seed for GPU operations\n",
    "    torch.cuda.manual_seed(0)\n",
    "    # Create random tensors on the GPU\n",
    "    tensor1 = torch.randn(2, 3).cuda()\n",
    "    tensor2 = torch.randn(3, 2).cuda()\n",
    "    # Perform matrix multiplication\n",
    "    result = torch.matmul(tensor1, tensor2)\n",
    "    # Find the maximum and minimum values\n",
    "    max_value = torch.max(result)\n",
    "    min_value = torch.min(result)\n",
    "\n",
    "    # Print the maximum and minimum values\n",
    "    print(\"Maximum value:\", max_value.item())\n",
    "    print(\"Minimum value:\", min_value.item())\n",
    "else:\n",
    "    print(\"GPU not available.\")\n"
   ]
  },
  {
   "cell_type": "code",
   "execution_count": null,
   "metadata": {},
   "outputs": [],
   "source": [
    "import torch\n",
    "# Set the random seed for CPU operations\n",
    "torch.manual_seed(1234)\n",
    "if torch.cuda.is_available():\n",
    "    # Set the random seed for GPU operations\n",
    "    torch.cuda.manual_seed(0)\n",
    "    # Create random tensors on the GPU\n",
    "    tensor1 = torch.randn(2, 3).cuda()\n",
    "    tensor2 = torch.randn(3, 2).cuda()\n",
    "    # Perform matrix multiplication\n",
    "    result = torch.matmul(tensor1, tensor2)\n",
    "    # Find the maximum and minimum index values\n",
    "    max_value, max_index = torch.max(result, dim=1)\n",
    "    min_value, min_index = torch.min(result, dim=1)\n",
    "    # Print the maximum and minimum index values\n",
    "    print(\"Maximum index:\", max_index.item())\n",
    "    print(\"Minimum index:\", min_index.item())\n",
    "else:\n",
    "    print(\"GPU not available.\")\n"
   ]
  },
  {
   "cell_type": "code",
   "execution_count": 8,
   "metadata": {},
   "outputs": [
    {
     "name": "stdout",
     "output_type": "stream",
     "text": [
      "Original Tensor:\n",
      "tensor([[[[-0.1468,  0.7861,  0.9468, -1.1143,  1.6908, -0.8948, -0.3556,\n",
      "            1.2324,  0.1382, -1.6822]]]])\n",
      "Original Tensor Shape: torch.Size([1, 1, 1, 10])\n",
      "Modified Tensor:\n",
      "tensor([-0.1468,  0.7861,  0.9468, -1.1143,  1.6908, -0.8948, -0.3556,  1.2324,\n",
      "         0.1382, -1.6822])\n",
      "Modified Tensor Shape: torch.Size([10])\n"
     ]
    }
   ],
   "source": [
    "import torch\n",
    "# Set the random seed\n",
    "torch.manual_seed(7)\n",
    "# Create a random tensor with shape (1, 1, 1, 10)\n",
    "tensor1 = torch.randn(1, 1, 1, 10)\n",
    "print(\"Original Tensor:\")\n",
    "print(tensor1)\n",
    "print(\"Original Tensor Shape:\", tensor1.shape)\n",
    "# Remove the '1' dimensions\n",
    "tensor2 = tensor1.squeeze()\n",
    "print(\"Modified Tensor:\")\n",
    "print(tensor2)\n",
    "print(\"Modified Tensor Shape:\", tensor2.shape)"
   ]
  }
 ],
 "metadata": {
  "kernelspec": {
   "display_name": "Python 3",
   "language": "python",
   "name": "python3"
  },
  "language_info": {
   "codemirror_mode": {
    "name": "ipython",
    "version": 3
   },
   "file_extension": ".py",
   "mimetype": "text/x-python",
   "name": "python",
   "nbconvert_exporter": "python",
   "pygments_lexer": "ipython3",
   "version": "3.9.13"
  }
 },
 "nbformat": 4,
 "nbformat_minor": 2
}
