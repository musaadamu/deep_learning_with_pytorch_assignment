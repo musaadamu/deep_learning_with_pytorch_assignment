{
 "cells": [
  {
   "cell_type": "markdown",
   "metadata": {},
   "source": [
    "### Pytorch Foundamentals"
   ]
  },
  {
   "cell_type": "code",
   "execution_count": 19,
   "metadata": {},
   "outputs": [],
   "source": [
    "# Question 1. Loading Data : Load the Synchronous Machine Learning Dataset as Numpy array\n",
    "import zipfile\n",
    "import pandas as pd\n",
    "import requests\n",
    "import numpy as np\n",
    "\n",
    "url = \"https://archive.ics.uci.edu/static/public/607/synchronous+machine+data+set.zip\"\n",
    "file_path = \"data.zip\"\n",
    "\n",
    "response = requests.get(url)\n",
    "response.raise_for_status()\n",
    "\n",
    "with open(file_path, \"wb\") as file:\n",
    "    file.write(response.content)\n",
    "\n",
    "with zipfile.ZipFile(\"data.zip\", 'r') as my_zip:\n",
    "    my_zip.extractall()\n",
    "    \n",
    "dataset_name = \"synchronous machine.csv\"\n",
    "data = pd.read_csv(dataset_name, delimiter=\";\", thousands=\",\")\n",
    "\n",
    "#a. Load the Synchronous Machine Learning Dataset as Numpy array\n",
    "numpy_data = data.values"
   ]
  },
  {
   "cell_type": "code",
   "execution_count": 20,
   "metadata": {},
   "outputs": [
    {
     "name": "stdout",
     "output_type": "stream",
     "text": [
      "   Iy  PF   e  dIf    If\n",
      "0   3  66  34  383  1563\n",
      "1   3  68  32  372  1552\n",
      "2   3   7   3   36   154\n",
      "3   3  72  28  338  1518\n",
      "4   3  74  26  317  1497\n",
      "[[   3   66   34  383 1563]\n",
      " [   3   68   32  372 1552]\n",
      " [   3    7    3   36  154]\n",
      " ...\n",
      " [   6   95    5   16  134]\n",
      " [   6   97    3   16  134]\n",
      " [   6   99    1   16  134]]\n"
     ]
    }
   ],
   "source": [
    "print(data.head())\n",
    "print(numpy_data)"
   ]
  },
  {
   "cell_type": "code",
   "execution_count": 21,
   "metadata": {},
   "outputs": [],
   "source": [
    "# b. Convert the Numpy array to PyTorch tensor, original_data_tensor\n",
    "import torch\n",
    "original_data_tensor = torch.tensor(numpy_data)"
   ]
  },
  {
   "cell_type": "code",
   "execution_count": 22,
   "metadata": {},
   "outputs": [
    {
     "name": "stdout",
     "output_type": "stream",
     "text": [
      "tensor([[   3,   66,   34,  383, 1563],\n",
      "        [   3,   68,   32,  372, 1552],\n",
      "        [   3,    7,    3,   36,  154],\n",
      "        ...,\n",
      "        [   6,   95,    5,   16,  134],\n",
      "        [   6,   97,    3,   16,  134],\n",
      "        [   6,   99,    1,   16,  134]])\n"
     ]
    }
   ],
   "source": [
    "print(original_data_tensor)"
   ]
  },
  {
   "cell_type": "code",
   "execution_count": 23,
   "metadata": {},
   "outputs": [
    {
     "name": "stdout",
     "output_type": "stream",
     "text": [
      "torch.Size([557, 5])\n",
      "torch.Size([557, 5])\n"
     ]
    }
   ],
   "source": [
    "# Question 2. Art of “Tensor Manipulation”\n",
    "# a. print the size of the dataset\n",
    "print(original_data_tensor.size())\n",
    "print(original_data_tensor.shape)"
   ]
  },
  {
   "cell_type": "code",
   "execution_count": 24,
   "metadata": {},
   "outputs": [
    {
     "name": "stdout",
     "output_type": "stream",
     "text": [
      "tensor([[3, 3, 3, 3, 3],\n",
      "        [3, 3, 3, 3, 3],\n",
      "        [3, 3, 3, 3, 3],\n",
      "        [3, 3, 3, 3, 3],\n",
      "        [3, 3, 3, 3, 3],\n",
      "        [3, 3, 3, 3, 3],\n",
      "        [3, 3, 3, 3, 3],\n",
      "        [3, 3, 3, 3, 3],\n",
      "        [3, 3, 3, 3, 3],\n",
      "        [3, 3, 3, 3, 3],\n",
      "        [3, 3, 3, 3, 3],\n",
      "        [3, 3, 3, 3, 3],\n",
      "        [3, 3, 3, 3, 3]])\n",
      "Tensor Device: cpu\n",
      "Tensor Data Type: torch.int64\n"
     ]
    }
   ],
   "source": [
    "\"\"\" b. Create a tensor, my_pi_tensor of same size as original original_data_tensor containing values of 3.142 at every point\n",
    "and placed on your GPU device. Print the first 13 rows. Print tensor device location. Print tensor datatype.\"\"\"\n",
    "# Create my_pi_tensor with the same size as original_data_tensor\n",
    "my_pi_tensor = torch.full_like(original_data_tensor, 3.142)\n",
    "\n",
    "# Move my_pi_tensor to the GPU device if available\n",
    "device = torch.device(\"cuda\" if torch.cuda.is_available() else \"cpu\")\n",
    "my_pi_tensor = my_pi_tensor.to(device)\n",
    "\n",
    "# Print the first 13 rows of my_pi_tensor\n",
    "print(my_pi_tensor[:13])\n",
    "\n",
    "# Print tensor device location\n",
    "print(\"Tensor Device:\", my_pi_tensor.device)\n",
    "\n",
    "# Print tensor datatype\n",
    "print(\"Tensor Data Type:\", my_pi_tensor.dtype)"
   ]
  },
  {
   "cell_type": "code",
   "execution_count": 25,
   "metadata": {},
   "outputs": [
    {
     "name": "stdout",
     "output_type": "stream",
     "text": [
      "Fifth root of the sum: tensor(6.0868)\n"
     ]
    }
   ],
   "source": [
    "# c. Print the fifth-root of sum of all values in my_pi_tensor\n",
    "# Calculate the fifth root of the sum of all values in my_pi_tensor\n",
    "result = torch.pow(my_pi_tensor.sum(), 1/5)\n",
    "\n",
    "# Print the result\n",
    "print(\"Fifth root of the sum:\", result)"
   ]
  },
  {
   "cell_type": "code",
   "execution_count": 26,
   "metadata": {},
   "outputs": [
    {
     "name": "stdout",
     "output_type": "stream",
     "text": [
      "Size of my_data_tensor: torch.Size([200, 5])\n"
     ]
    }
   ],
   "source": [
    "\"\"\"\n",
    "d. Create a new tensor, my_data_tensor using the first and last 100 rows from the original_data_tensor. Print size of \n",
    "my_data_tensor\n",
    "\"\"\"\n",
    "# Select the first and last 100 rows from original_data_tensor\n",
    "selected_rows = torch.cat((original_data_tensor[:100], original_data_tensor[-100:]))\n",
    "\n",
    "# Create the new tensor my_data_tensor\n",
    "my_data_tensor = selected_rows.clone()\n",
    "\n",
    "# Print the size of my_data_tensor\n",
    "print(\"Size of my_data_tensor:\", my_data_tensor.size())"
   ]
  },
  {
   "cell_type": "code",
   "execution_count": 27,
   "metadata": {},
   "outputs": [
    {
     "name": "stdout",
     "output_type": "stream",
     "text": [
      "Size of features tensor: torch.Size([200])\n",
      "Size of target tensor: torch.Size([200])\n"
     ]
    }
   ],
   "source": [
    "\"\"\"\n",
    "e. Create two 1-D tensors, features and target from my_data_tensor. The feature is dIf (Changing of excitation current \n",
    "of synchronous machine) I) column and target is If (Excitation current of synchronous machine)\n",
    "\"\"\"\n",
    "# Create *known* parameters\n",
    "weight = 0.7\n",
    "bias = 0.3\n",
    "\n",
    "# Extract the \"dIf\" column as features tensor\n",
    "features = my_data_tensor[:, 0]\n",
    "\n",
    "# Extract the \"If\" column as target tensor\n",
    "target = weight * my_data_tensor[:, 1] + bias\n",
    "\n",
    "\n",
    "# Print the size of the tensors\n",
    "print(\"Size of features tensor:\", features.size())\n",
    "print(\"Size of target tensor:\", target.size())"
   ]
  },
  {
   "cell_type": "code",
   "execution_count": 28,
   "metadata": {},
   "outputs": [
    {
     "data": {
      "text/plain": [
       "(150, 150, 50, 50)"
      ]
     },
     "execution_count": 28,
     "metadata": {},
     "output_type": "execute_result"
    }
   ],
   "source": [
    "# Create train/test split\n",
    "train_split = int(0.75 * len(features)) # 75% of data used for training set, 25% for testing \n",
    "features_train, target_train = features[:train_split], target[:train_split]\n",
    "features_test, target_test = features[train_split:], target[train_split:]\n",
    "\n",
    "len(features_train), len(target_train), len(features_test), len(target_test)"
   ]
  },
  {
   "cell_type": "markdown",
   "metadata": {},
   "source": [
    "### Pytorch Workflow Foundamentals"
   ]
  },
  {
   "cell_type": "code",
   "execution_count": 29,
   "metadata": {},
   "outputs": [],
   "source": [
    "import matplotlib.pyplot as plt\n",
    "def plot_predictions(train_data=features_train, \n",
    "                     train_labels=target_train, \n",
    "                     test_data=features_test, \n",
    "                     test_labels=target_test, \n",
    "                     predictions=None):\n",
    "  \"\"\"\n",
    "  Plots training data, test data and compares predictions.\n",
    "  \"\"\"\n",
    "  plt.figure(figsize=(10, 7))\n",
    "\n",
    "  # Plot training data in blue\n",
    "  plt.scatter(train_data, train_labels, c=\"b\", s=4, label=\"Training data\")\n",
    "  \n",
    "  # Plot test data in green\n",
    "  plt.scatter(test_data, test_labels, c=\"g\", s=4, label=\"Testing data\")\n",
    "\n",
    "  if predictions is not None:\n",
    "    # Plot the predictions in red (predictions were made on the test data)\n",
    "    plt.scatter(test_data, predictions, c=\"r\", s=4, label=\"Predictions\")\n",
    "\n",
    "  # Show the legend\n",
    "  plt.legend(prop={\"size\": 14});"
   ]
  },
  {
   "cell_type": "code",
   "execution_count": 30,
   "metadata": {},
   "outputs": [
    {
     "data": {
      "image/png": "[encoded data removed]",
      "text/plain": [
       "<Figure size 1000x700 with 1 Axes>"
      ]
     },
     "metadata": {},
     "output_type": "display_data"
    }
   ],
   "source": [
    "plot_predictions()"
   ]
  },
  {
   "cell_type": "code",
   "execution_count": 31,
   "metadata": {},
   "outputs": [],
   "source": [
    "import torch.nn as nn\n",
    "# Create a Linear Regression model class\n",
    "class LinearRegressionModel(nn.Module): # <- almost everything in PyTorch is a nn.Module (think of this as neural network lego blocks)\n",
    "    def __init__(self):\n",
    "        super().__init__() \n",
    "        self.weights = nn.Parameter(torch.randn(1, # <- start with random weights (this will get adjusted as the model learns)\n",
    "                                                dtype=torch.float), # <- PyTorch loves float32 by default\n",
    "                                   requires_grad=True) # <- can we update this value with gradient descent?)\n",
    "\n",
    "        self.bias = nn.Parameter(torch.randn(1, # <- start with random bias (this will get adjusted as the model learns)\n",
    "                                            dtype=torch.float), # <- PyTorch loves float32 by default\n",
    "                                requires_grad=True) # <- can we update this value with gradient descent?))\n",
    "\n",
    "    # Forward defines the computation in the model\n",
    "    def forward(self, x: torch.Tensor) -> torch.Tensor: # <- \"x\" is the input data (e.g. training/testing features)\n",
    "        return self.weights * x + self.bias # <- this is the linear regression formula (y = m*x + b)"
   ]
  },
  {
   "cell_type": "code",
   "execution_count": 32,
   "metadata": {},
   "outputs": [
    {
     "data": {
      "text/plain": [
       "[Parameter containing:\n",
       " tensor([0.3367], requires_grad=True),\n",
       " Parameter containing:\n",
       " tensor([0.1288], requires_grad=True)]"
      ]
     },
     "execution_count": 32,
     "metadata": {},
     "output_type": "execute_result"
    }
   ],
   "source": [
    "# Set manual seed since nn.Parameter are randomly initialzied\n",
    "torch.manual_seed(42)\n",
    "\n",
    "# Create an instance of the model (this is a subclass of nn.Module that contains nn.Parameter(s))\n",
    "model_0 = LinearRegressionModel()\n",
    "\n",
    "# Check the nn.Parameter(s) within the nn.Module subclass we created\n",
    "list(model_0.parameters())"
   ]
  },
  {
   "cell_type": "code",
   "execution_count": 33,
   "metadata": {},
   "outputs": [
    {
     "data": {
      "text/plain": [
       "OrderedDict([('weights', tensor([0.3367])), ('bias', tensor([0.1288]))])"
      ]
     },
     "execution_count": 33,
     "metadata": {},
     "output_type": "execute_result"
    }
   ],
   "source": [
    "# List named parameters \n",
    "model_0.state_dict()"
   ]
  },
  {
   "cell_type": "code",
   "execution_count": 34,
   "metadata": {},
   "outputs": [],
   "source": [
    "# Make predictions with model\n",
    "with torch.inference_mode(): \n",
    "    target_preds = model_0(features_test)\n",
    "\n",
    "# Note: in older PyTorch code you might also see torch.no_grad()\n",
    "# with torch.no_grad():\n",
    "#   y_preds = model_0(X_test)"
   ]
  },
  {
   "cell_type": "code",
   "execution_count": 35,
   "metadata": {},
   "outputs": [
    {
     "name": "stdout",
     "output_type": "stream",
     "text": [
      "Number of testing samples: 50\n",
      "Number of predictions made: 50\n",
      "Predicted values:\n",
      "tensor([19.6569, 19.6569, 19.6569, 19.6569, 19.6569, 19.6569, 19.6569, 19.6569,\n",
      "        19.6569, 19.6569, 19.6569, 19.6569, 19.6569, 19.6569, 19.9935, 19.9935,\n",
      "        19.9935, 19.9935, 19.9935, 19.9935, 19.9935, 19.9935, 19.9935, 19.9935,\n",
      "        19.9935, 19.9935, 19.9935, 19.9935, 19.9935, 19.9935, 19.9935, 19.9935,\n",
      "         2.1490,  2.1490,  2.1490,  2.1490,  2.1490,  2.1490,  2.1490,  2.1490,\n",
      "         2.1490,  2.1490,  2.1490,  2.1490,  2.1490,  2.1490,  2.1490,  2.1490,\n",
      "         2.1490,  2.1490])\n"
     ]
    }
   ],
   "source": [
    "# Check the predictions\n",
    "print(f\"Number of testing samples: {len(features_test)}\") \n",
    "print(f\"Number of predictions made: {len(target_preds)}\")\n",
    "print(f\"Predicted values:\\n{target_preds}\")"
   ]
  },
  {
   "cell_type": "code",
   "execution_count": 36,
   "metadata": {},
   "outputs": [
    {
     "data": {
      "image/png": "[encoded data removed]",
      "text/plain": [
       "<Figure size 1000x700 with 1 Axes>"
      ]
     },
     "metadata": {},
     "output_type": "display_data"
    }
   ],
   "source": [
    "plot_predictions(predictions=target_preds)"
   ]
  },
  {
   "cell_type": "code",
   "execution_count": 37,
   "metadata": {},
   "outputs": [
    {
     "data": {
      "text/plain": [
       "tensor([31.7431, 33.1432, 34.5431, 35.9431, 37.3431, 38.7431, 40.1432, 41.5431,\n",
       "        42.9431, 44.3431, 45.7431, 47.1432, 48.5432, 49.9431, 25.8065, 27.2065,\n",
       "        28.6065, 30.0065, 31.4065, 32.8065, 34.2065, 35.6065, 37.0065, 38.4065,\n",
       "        39.8065, 41.2065, 42.6065, 44.0065, 45.4065, 46.8065, 48.2065, 49.6065,\n",
       "        43.6510, 45.0510, 46.4510, 47.8510, 49.2510, 50.6510, 52.0510, 53.4510,\n",
       "        54.8510, 56.2510, 57.6510, 59.0510, 60.4510, 61.8510, 63.2510, 64.6511,\n",
       "        66.0511, 67.4510])"
      ]
     },
     "execution_count": 37,
     "metadata": {},
     "output_type": "execute_result"
    }
   ],
   "source": [
    "target_test - target_preds"
   ]
  },
  {
   "cell_type": "code",
   "execution_count": 38,
   "metadata": {},
   "outputs": [],
   "source": [
    "# Create the loss function\n",
    "loss_fn = nn.L1Loss() # MAE loss is same as L1Loss\n",
    "\n",
    "# Create the optimizer\n",
    "optimizer = torch.optim.SGD(params=model_0.parameters(), # parameters of target model to optimize\n",
    "                            lr=0.01) # learning rate (how much the optimizer should change parameters at each step, higher=more (less stable), lower=less (might take a long time))"
   ]
  },
  {
   "cell_type": "code",
   "execution_count": 39,
   "metadata": {},
   "outputs": [
    {
     "name": "stdout",
     "output_type": "stream",
     "text": [
      "Epoch: 0 | MAE Train Loss: 38.85260009765625 | MAE Test Loss: 33.44229507446289 \n",
      "Epoch: 10 | MAE Train Loss: 20.1838321685791 | MAE Test Loss: 24.359485626220703 \n",
      "Epoch: 20 | MAE Train Loss: 20.178014755249023 | MAE Test Loss: 24.249868392944336 \n",
      "Epoch: 30 | MAE Train Loss: 20.17315673828125 | MAE Test Loss: 24.34795379638672 \n",
      "Epoch: 40 | MAE Train Loss: 20.167461395263672 | MAE Test Loss: 24.23833656311035 \n",
      "Epoch: 50 | MAE Train Loss: 20.1624813079834 | MAE Test Loss: 24.3364315032959 \n",
      "Epoch: 60 | MAE Train Loss: 20.156909942626953 | MAE Test Loss: 24.226816177368164 \n",
      "Epoch: 70 | MAE Train Loss: 20.151880264282227 | MAE Test Loss: 24.321123123168945 \n",
      "Epoch: 80 | MAE Train Loss: 20.146333694458008 | MAE Test Loss: 24.211509704589844 \n",
      "Epoch: 90 | MAE Train Loss: 20.14127540588379 | MAE Test Loss: 24.30582046508789 \n"
     ]
    }
   ],
   "source": [
    "torch.manual_seed(42)\n",
    "\n",
    "# Set the number of epochs (how many times the model will pass over the training data)\n",
    "epochs = 100\n",
    "\n",
    "# Create empty loss lists to track values\n",
    "train_loss_values = []\n",
    "test_loss_values = []\n",
    "epoch_count = []\n",
    "\n",
    "for epoch in range(epochs):\n",
    "    ### Training\n",
    "\n",
    "    # Put model in training mode (this is the default state of a model)\n",
    "    model_0.train()\n",
    "\n",
    "    # 1. Forward pass on train data using the forward() method inside \n",
    "    target_pred = model_0(features_train)\n",
    "    # print(y_pred)\n",
    "\n",
    "    # 2. Calculate the loss (how different are our models predictions to the ground truth)\n",
    "    loss = loss_fn(target_pred, target_train)\n",
    "\n",
    "    # 3. Zero grad of the optimizer\n",
    "    optimizer.zero_grad()\n",
    "\n",
    "    # 4. Loss backwards\n",
    "    loss.backward()\n",
    "\n",
    "    # 5. Progress the optimizer\n",
    "    optimizer.step()\n",
    "\n",
    "    ### Testing\n",
    "\n",
    "    # Put the model in evaluation mode\n",
    "    model_0.eval()\n",
    "\n",
    "    with torch.inference_mode():\n",
    "      # 1. Forward pass on test data\n",
    "      test_pred = model_0(features_test)\n",
    "\n",
    "      # 2. Caculate loss on test data\n",
    "      test_loss = loss_fn(test_pred, target_test.type(torch.float)) # predictions come in torch.float datatype, so comparisons need to be done with tensors of the same type\n",
    "\n",
    "      # Print out what's happening\n",
    "      if epoch % 10 == 0:\n",
    "            epoch_count.append(epoch)\n",
    "            train_loss_values.append(loss.detach().numpy())\n",
    "            test_loss_values.append(test_loss.detach().numpy())\n",
    "            print(f\"Epoch: {epoch} | MAE Train Loss: {loss} | MAE Test Loss: {test_loss} \")"
   ]
  },
  {
   "cell_type": "code",
   "execution_count": 40,
   "metadata": {},
   "outputs": [
    {
     "data": {
      "image/png": "[encoded data removed]",
      "text/plain": [
       "<Figure size 640x480 with 1 Axes>"
      ]
     },
     "metadata": {},
     "output_type": "display_data"
    }
   ],
   "source": [
    "# Plot the loss curves\n",
    "plt.plot(epoch_count, train_loss_values, label=\"Train loss\")\n",
    "plt.plot(epoch_count, test_loss_values, label=\"Test loss\")\n",
    "plt.title(\"Training and test loss curves\")\n",
    "plt.ylabel(\"Loss\")\n",
    "plt.xlabel(\"Epochs\")\n",
    "plt.legend();"
   ]
  },
  {
   "cell_type": "code",
   "execution_count": 41,
   "metadata": {},
   "outputs": [
    {
     "name": "stdout",
     "output_type": "stream",
     "text": [
      "The model learned the following values for weights and bias:\n",
      "OrderedDict([('weights', tensor([1.1594])), ('bias', tensor([0.3735]))])\n",
      "\n",
      "And the original values for weights and bias are:\n",
      "weights: 0.7, bias: 0.3\n"
     ]
    }
   ],
   "source": [
    "# Find our model's learned parameters\n",
    "print(\"The model learned the following values for weights and bias:\")\n",
    "print(model_0.state_dict())\n",
    "print(\"\\nAnd the original values for weights and bias are:\")\n",
    "print(f\"weights: {weight}, bias: {bias}\")"
   ]
  },
  {
   "cell_type": "code",
   "execution_count": 42,
   "metadata": {},
   "outputs": [
    {
     "data": {
      "text/plain": [
       "tensor([67.6161, 67.6161, 67.6161, 67.6161, 67.6161, 67.6161, 67.6161, 67.6161,\n",
       "        67.6161, 67.6161, 67.6161, 67.6161, 67.6161, 67.6161, 68.7755, 68.7755,\n",
       "        68.7755, 68.7755, 68.7755, 68.7755, 68.7755, 68.7755, 68.7755, 68.7755,\n",
       "        68.7755, 68.7755, 68.7755, 68.7755, 68.7755, 68.7755, 68.7755, 68.7755,\n",
       "         7.3296,  7.3296,  7.3296,  7.3296,  7.3296,  7.3296,  7.3296,  7.3296,\n",
       "         7.3296,  7.3296,  7.3296,  7.3296,  7.3296,  7.3296,  7.3296,  7.3296,\n",
       "         7.3296,  7.3296])"
      ]
     },
     "execution_count": 42,
     "metadata": {},
     "output_type": "execute_result"
    }
   ],
   "source": [
    "# 1. Set the model in evaluation mode\n",
    "model_0.eval()\n",
    "\n",
    "# 2. Setup the inference mode context manager\n",
    "with torch.inference_mode():\n",
    "  # 3. Make sure the calculations are done with the model and data on the same device\n",
    "  # in our case, we haven't setup device-agnostic code yet so our data and model are\n",
    "  # on the CPU by default.\n",
    "  # model_0.to(device)\n",
    "  # X_test = X_test.to(device)\n",
    "  target_preds = model_0(features_test)\n",
    "target_preds"
   ]
  },
  {
   "cell_type": "code",
   "execution_count": 43,
   "metadata": {},
   "outputs": [
    {
     "data": {
      "image/png": "[encoded data removed]",
      "text/plain": [
       "<Figure size 1000x700 with 1 Axes>"
      ]
     },
     "metadata": {},
     "output_type": "display_data"
    }
   ],
   "source": [
    "plot_predictions(predictions=target_preds)"
   ]
  },
  {
   "cell_type": "code",
   "execution_count": 44,
   "metadata": {},
   "outputs": [
    {
     "name": "stdout",
     "output_type": "stream",
     "text": [
      "Saving model to: models\\01_pytorch_workflow_model_0.pth\n"
     ]
    }
   ],
   "source": [
    "from pathlib import Path\n",
    "\n",
    "# 1. Create models directory \n",
    "MODEL_PATH = Path(\"models\")\n",
    "MODEL_PATH.mkdir(parents=True, exist_ok=True)\n",
    "\n",
    "# 2. Create model save path \n",
    "MODEL_NAME = \"01_pytorch_workflow_model_0.pth\"\n",
    "MODEL_SAVE_PATH = MODEL_PATH / MODEL_NAME\n",
    "\n",
    "# 3. Save the model state dict \n",
    "print(f\"Saving model to: {MODEL_SAVE_PATH}\")\n",
    "torch.save(obj=model_0.state_dict(), # only saving the state_dict() only saves the models learned parameters\n",
    "           f=MODEL_SAVE_PATH)"
   ]
  },
  {
   "cell_type": "code",
   "execution_count": 45,
   "metadata": {},
   "outputs": [
    {
     "name": "stdout",
     "output_type": "stream",
     "text": [
      " Volume in drive C has no label.\n",
      " Volume Serial Number is FC15-CE7C\n",
      "\n",
      " Directory of c:\\Users\\hp\\Desktop\\Coding Base Folder\\arewaDSDeepLearning\\exercise_submissions\\week_2\\models\n",
      "\n",
      "12/28/2023  06:34 AM             1,680 01_pytorch_workflow_model_0.pth\n",
      "               1 File(s)          1,680 bytes\n",
      "               0 Dir(s)  138,883,383,296 bytes free\n"
     ]
    }
   ],
   "source": [
    "# Check the saved file path\n",
    "!dir models\\01_pytorch_workflow_model_0.pth"
   ]
  },
  {
   "cell_type": "markdown",
   "metadata": {},
   "source": [
    "### The observations about the model"
   ]
  }
 ],
 "metadata": {
  "kernelspec": {
   "display_name": "deep_learning",
   "language": "python",
   "name": "python3"
  },
  "language_info": {
   "codemirror_mode": {
    "name": "ipython",
    "version": 3
   },
   "file_extension": ".py",
   "mimetype": "text/x-python",
   "name": "python",
   "nbconvert_exporter": "python",
   "pygments_lexer": "ipython3",
   "version": "3.9.18"
  }
 },
 "nbformat": 4,
 "nbformat_minor": 2
}
